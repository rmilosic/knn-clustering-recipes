{
 "cells": [
  {
   "cell_type": "code",
   "execution_count": 3,
   "id": "de476fa6-e50f-4e4e-83c9-6279117eac50",
   "metadata": {},
   "outputs": [],
   "source": [
    "import pandas as pd\n",
    "import sklearn"
   ]
  },
  {
   "cell_type": "code",
   "execution_count": 5,
   "id": "1b317e08-f15a-477e-bb8b-1d6a45f76b5a",
   "metadata": {},
   "outputs": [],
   "source": [
    "df = pd.read_csv(\"./data/recipes_202210080855.csv\")"
   ]
  },
  {
   "cell_type": "code",
   "execution_count": 18,
   "id": "d8751670-e8f7-4a78-b1f3-e0c4681d64fb",
   "metadata": {},
   "outputs": [
    {
     "name": "stdout",
     "output_type": "stream",
     "text": [
      "\n",
      "\t\t\t\t\n",
      "\t\t\t\t\n",
      "\t\t\t\tDomácí kokosové mléko se od kupovaného kokosové mléka liší ve dvou věcech. Tou první je to, že domácí obsahuje pouze dvě ingredience – kokos a vodu, kdežto kupovaná rostlinná mléka obsahují navíc stabilizátory, emulgátory a někdy i přidaný cukr. Tou druhou je to, že litr domácího kokosového mléka vás vyjde na třetinu toho, co dáte za kupované kokosové mléko.\n",
      "\n",
      " \n",
      "\n",
      " \n",
      "\n",
      " \n",
      "\n",
      " \n",
      "\n",
      " \n",
      "\n",
      " \n",
      "\n",
      " \n",
      "Ingredience\n",
      "1 ,5 – 2 hrnky strouhaného kokosu\n",
      "4 hrnky vody\n",
      " \n",
      "Postup\n",
      "\n",
      "Kokos vložte do mixéru a přidejte vodu.\n",
      "Mixujte několik minut tak, aby se na hladině a po stěnách mixéru vytvořila tužší kokosová “smetana”.\n",
      "Hotové mléko přeceďte. Nejdřív přes cedník, abyste se zbavili převážného množství kokosu, poté přes plátýnko pro odstranění zbývajících kousků kokosu.\n",
      "Příchutě – pokud chcete vaše kokosové mléko ochutit, vložte ho po přecedění znovu do mixéru a mixujte společně s – vanilkovým extraktem pro vanilkovou příchuť, s 1/2 hrnkem mražených lesních plodů pro ovocnou příchuť nebo se 2 lžícemi raw kakaa a 1/2 lžíce vanilkového extraktu pro čokoládovou příchuť. \n",
      "Zbylou kokosovou hmotu můžete použít jako kokosovou mouku při pečení. \n",
      "\n",
      "51 \n",
      "\t\t\t\t\n",
      "\t\t\t\n"
     ]
    }
   ],
   "source": [
    "print(df[\"Text\"].sample(5, random_state=1).iloc[0])"
   ]
  },
  {
   "cell_type": "code",
   "execution_count": 19,
   "id": "d5e98823-e946-42eb-941f-1d52868f1f96",
   "metadata": {},
   "outputs": [
    {
     "data": {
      "text/plain": [
       "'\\n\\t\\t\\t\\t\\n\\t\\t\\t\\t\\n\\t\\t\\t\\tDomácí kokosové mléko se od kupovaného kokosové mléka liší ve dvou věcech. Tou první je to, že domácí obsahuje pouze dvě ingredience – kokos a vodu, kdežto kupovaná rostlinná mléka obsahují navíc stabilizátory, emulgátory a někdy i přidaný cukr. Tou druhou je to, že litr domácího kokosového mléka vás vyjde na třetinu toho, co dáte za kupované kokosové mléko.\\n\\n\\xa0\\n\\n\\xa0\\n\\n\\xa0\\n\\n\\xa0\\n\\n\\xa0\\n\\n\\xa0\\n\\n\\xa0\\nIngredience\\n1 ,5 – 2 hrnky strouhaného kokosu\\n4 hrnky vody\\n\\xa0\\nPostup\\n\\nKokos vložte do mixéru a přidejte vodu.\\nMixujte několik minut tak, aby se na hladině a po stěnách mixéru vytvořila tužší kokosová “smetana”.\\nHotové mléko přeceďte. Nejdřív přes cedník, abyste se zbavili převážného množství kokosu, poté přes plátýnko pro odstranění\\xa0zbývajících kousků kokosu.\\nPříchutě – pokud chcete vaše kokosové mléko ochutit, vložte ho po přecedění znovu do mixéru a mixujte společně s – vanilkovým extraktem pro vanilkovou příchuť, s 1/2 hrnkem mražených lesních plodů pro ovocnou příchuť nebo se 2 lžícemi raw kakaa a 1/2 lžíce vanilkového extraktu pro čokoládovou příchuť. \\nZbylou kokosovou hmotu můžete použít jako kokosovou mouku při pečení. \\n\\n51 \\n\\t\\t\\t\\t\\n\\t\\t\\t'"
      ]
     },
     "execution_count": 19,
     "metadata": {},
     "output_type": "execute_result"
    }
   ],
   "source": [
    "df[\"Text\"].sample(5, random_state=1).iloc[0]"
   ]
  },
  {
   "cell_type": "code",
   "execution_count": null,
   "id": "29f40135-7c2e-4ae8-a261-bfb143da9940",
   "metadata": {},
   "outputs": [],
   "source": []
  }
 ],
 "metadata": {
  "kernelspec": {
   "display_name": "Python 3 (ipykernel)",
   "language": "python",
   "name": "python3"
  },
  "language_info": {
   "codemirror_mode": {
    "name": "ipython",
    "version": 3
   },
   "file_extension": ".py",
   "mimetype": "text/x-python",
   "name": "python",
   "nbconvert_exporter": "python",
   "pygments_lexer": "ipython3",
   "version": "3.10.6"
  }
 },
 "nbformat": 4,
 "nbformat_minor": 5
}
